{
 "cells": [
  {
   "cell_type": "markdown",
   "metadata": {},
   "source": [
    "## 概要\n",
    "### 深度学习在文本生成中的使用主要来源于机器翻译（Machine Translation),在机器翻译中，我们需要将源序列(中文）转译成目标序列(English)。利用神经网络建模进行机器翻译，需要以下几个步骤：\n",
    "* 分词\n",
    "* 词典构建\n",
    "* 文本表征\n",
    "* 网络构建\n",
    "* 模型训练\n",
    "* 模型性能评估"
   ]
  },
  {
   "cell_type": "markdown",
   "metadata": {},
   "source": [
    "## 分词\n",
    "### 我们以中文为准，分词，顾名思义，就是将一个序列（一个句子，一段文字）按一定规则进行切割，划分成一个个小块(词，词组）。中文常用的分词工具有 \n",
    "* [jieba](https://github.com/fxsjy/jieba)\n",
    "* [hanlp](https://github.com/hankcs/HanLP)\n",
    "* [斯坦福分词器](https://nlp.stanford.edu/software/segmenter.shtml)\n",
    "* [哈工大LTP](https://github.com/HIT-SCIR/ltp)\n",
    "* [清华大学THULAC](https://github.com/thunlp/THULAC)"
   ]
  },
  {
   "cell_type": "markdown",
   "metadata": {},
   "source": [
    "## 词典构建\n",
    "### 在对源(目标)序列进行分词后，需要构建相应的源(目标)词典。\n",
    "> 对源(目标)序列的词进行词频统计，保留其中频率最高的top n 作为词典的元素（例如 n = 50k)\n",
    "\n",
    "## 文本表征\n",
    "### 利用词典将文本序列特征化，常用的有one-hot,bag of word\n",
    "\n",
    "\n",
    "### 样例\n",
    "##### 有如下语料：\n",
    "* *我爱自然语言处理*\n",
    "* *我爱深度学习*\n",
    "* *我爱北京天安门*\n",
    "\n",
    "> Step 1 : * 分词*\n",
    "   *  我 | 爱|自然|语言|处理\n",
    "   *  我|爱|深度|学习\n",
    "   *  我|爱|北京|天安门\n",
    "     \n",
    "> Step 2: *词典构建*\n",
    "    \n",
    "    {我， 爱， 自然， 语言，处理，深度，学习，北京，天安门}\n",
    "    \n",
    "> Step 3: * 文本表征*\n",
    "### 共现表征，窗口size为1\n",
    "\n",
    "  |   | 我 | 爱| 自然| 语言|处理|深度|学习|北京|天安门|\n",
    "  |---|\n",
    "  |我| 0 | 3|0 |0 |0 |0 |0 |0 |0 |\n",
    "  |爱|3|0|1|0|0|0|0|0|0|\n",
    "  |自然|0|1|0|0|0|0|0|0|0|\n",
    "  |语言|0|0|1|0|0|0|0|0|0|\n",
    "  |处理|0|0|0|1|0|0|0|0|0|\n",
    "  |深度|0|1|0|0|0|0|1|0|0|\n",
    "  |学习|0|0|0|0|0|1|0|0|0|\n",
    "  |北京|0|1|0|0|0|0|0|0|1|\n",
    "  |天安门|0|0|0|0|0|0|0|1|0|\n",
    "\n",
    "### bag of word\n",
    "* 我 爱 自然 语言 处理 --> [1,1,1,1,1,0,0,0,0]\n",
    "\n",
    "* 我 爱 深度 学习 --> [1,1,0,0,0,1,1,0,0]\n",
    "\n",
    "* 我 爱 北京 天安门 --> [1,1,0,0,0,0,0,1,1]\n",
    "\n"
   ]
  },
  {
   "cell_type": "code",
   "execution_count": null,
   "metadata": {},
   "outputs": [],
   "source": []
  }
 ],
 "metadata": {
  "kernelspec": {
   "display_name": "Python 3",
   "language": "python",
   "name": "python3"
  },
  "language_info": {
   "codemirror_mode": {
    "name": "ipython",
    "version": 3
   },
   "file_extension": ".py",
   "mimetype": "text/x-python",
   "name": "python",
   "nbconvert_exporter": "python",
   "pygments_lexer": "ipython3",
   "version": "3.6.5"
  }
 },
 "nbformat": 4,
 "nbformat_minor": 2
}
