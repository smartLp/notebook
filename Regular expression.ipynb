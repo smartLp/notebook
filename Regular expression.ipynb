{
 "cells": [
  {
   "cell_type": "code",
   "execution_count": 8,
   "metadata": {},
   "outputs": [],
   "source": [
    "import re"
   ]
  },
  {
   "cell_type": "markdown",
   "metadata": {},
   "source": [
    "## re 模块中的functions\n",
    "+ **re.compile(pattern,flags=0)**\n",
    "    + use a pattern as input ,return a **regular expression object**, which has its methods such as **match(),search()**,the \n",
    "same as re.function().\n",
    "\n",
    "使用 re.compile 编译后的返回的正则表达式对象具有和re模块中其他函数的方法，这用在对某个pattern重复多次匹配时很有效，能提高匹配效率。\n",
    "\n",
    "> + **THe Methods and Attributes of Regular expression object**\n",
    "    + Pattern.search(string[,pos[.endpos]])\n",
    "    + Pattern.match(string[,pos[,endpos]])\n",
    "    + Pattern.fullmatch(string[,pos[,endpos]])\n",
    "    + Pattern.split(string,maxsplit=0)\n",
    "    + Pattern.findall(string[,pos[,endpos]])\n",
    "    + Pattern.finditer(string[,pos[,endpos]])\n",
    "    + Pattern.sub(repl,string,count=0)\n",
    "    + Pattern.subn(repl,string,count=0)\n",
    "    + Pattern.flags\n",
    "    + Pattern.groups\n",
    "    + Pattern.groupindex\n",
    "    + Pattern.pattern\n",
    "\n",
    "+ **re.search(pattern,string,flags=0)**\n",
    "    + 搜索整个字符串序列，匹配到第一个子串，返回相应的 **match object**,如果找不到匹配，返回None\n",
    "+ **re.match(pattern,string,flags=0)**\n",
    "    + 从字符串开头进行匹配，返回相应的**match object** ,如果匹配不到，返回NOne\n",
    "+ **re.fullmatch(pattern,string,flags=0)**\n",
    "    + 如果整个字符串序列与规则都匹配，返回相应的**match object**,否则，返回None\n",
    "+ **re.finditer(pattern,string,flags=0)\n",
    "    + 返回一个包含所有匹配**match object**的迭代器\n",
    "+ **re.findall(pattern,string,flags=0)\n",
    "    + 返回由所有无重合的匹配子串组成的列表\n",
    "   \n",
    "+ **re.sub(pattern,repl,string,count=0,flags=0)**\n",
    "    + 返回一个将字符串中的匹配的部分用repl替代的字符串，否则，返回原字符串，repl可以是一个string或者function,如果repl是个function,function会take a single **match object** argument,and return the replacement string.\n",
    "\n",
    "+ **re.subn(pattern,repl,string,count=0,flags=0)**\n",
    "     + Perform the same operation as `sub()`,but return a tuple(`new_string`,`number_of_subs_made` )\n",
    "     \n",
    "+ **re.escape(pattern)**\n",
    "    + 对pattern中的特殊字符进行转义\n",
    "    \n",
    "+ **re.purge()**\n",
    "    + Clear the regular expression cache\n",
    "    \n",
    "## Match Objects\n",
    "> Match objects always have a boolean value of True.Since match() and search() return None when there is no\n",
    "match,you can test whether there was a match with a simple if statement\n",
    "```\n",
    "match = re.search(pattern,string)\n",
    "if match:\n",
    "    process(match)\n",
    "```\n",
    "\n",
    "Match objects suport the following methods and attributes:\n",
    "- **Match.expand(template)**\n",
    "    + Return the string obtained by doing backslash substitution on the template string template\n",
    "    \n",
    "- **Match.group([group1,...])**\n",
    "    + Return one or more subgroups of the match,if there is a sigle argument,the result is a single string; if there are multiple arguments,the result is a tuple with one item per argument.Without arguments,group1 deafaults to zero(the whole match is returned).\n",
    "    \n",
    "    + If the regular expression uses the`(?P<name>...)`syntax,the groupN arguments may also be strings identifying groups by their group name. If a string argument is not used as a group name in the pattern, an `IndexError` exception is raised\n",
    "\n",
    "- **Match.__getitem__(g)**\n",
    "    + This is identical to m.group(g).This allows easier access to an individual group from a match\n",
    "\n",
    "- **Match.groups(default=None)**\n",
    "    + Return a tuple containing all the subgroups of the match,from 1 up to however many groups are in the pattern.\n",
    "    \n",
    "- **Match.groupdict(default=None)**\n",
    "    + Return a dictionary containing all the named subgroups of the match, keyed by the subgroup name.The default argument is used for groups that did not participate in the match; it defaults to None\n",
    "    \n",
    "- **Match.start([group])/Match.end([group])\n",
    "    + Return the indices of the start and end of the substring matched by group\n",
    "    \n",
    "- **Match.span([group])**\n",
    "    + For a match m ,return the 2-tuple (m.start(group),m.end(group))\n",
    "    \n",
    "- **Match.pos**\n",
    "    + The value of pos which was passed to the search() or match() method of a regex object.This is the index into the string at which the RE engine started looking for a match.\n",
    "\n",
    "- **Match.endpos**\n",
    "    + Similiar to Match.pos\n",
    "    \n",
    "- **Match.lastindex**\n",
    "    + The interger index of the last matched capturing group,or None if no group was matched at all.\n",
    "    \n",
    "- **Match.lastgroup**\n",
    "    + The name of the last matched capturing group, or None if the group didn't have a name,or if no group was matched at all.\n",
    "    \n",
    "- **Match.re**\n",
    "    + The regular expression whose match() or search() method produced this match instance\n",
    "    \n",
    "- **Match.string**\n",
    "    + The string passed to match() or search()\n",
    "    "
   ]
  },
  {
   "cell_type": "code",
   "execution_count": 45,
   "metadata": {},
   "outputs": [
    {
     "name": "stdout",
     "output_type": "stream",
     "text": [
      "('student', '27')\n",
      "Age:27\n"
     ]
    }
   ],
   "source": [
    "s = \"I am a student,whose age is 27\"\n",
    "pat = \"(s.*t).* (\\d+)\"\n",
    "mat = re.search(pat,s)\n",
    "print (mat.groups())\n",
    "print(mat.expand(\"Age:\\\\2\"))"
   ]
  },
  {
   "cell_type": "code",
   "execution_count": 40,
   "metadata": {},
   "outputs": [
    {
     "name": "stdout",
     "output_type": "stream",
     "text": [
      "Jone Hintton\n",
      "Jone\n",
      "Hintton\n",
      "('Jone', 'Hintton')\n"
     ]
    }
   ],
   "source": [
    "m = re.match(r\"(\\w+) (\\w+)\",\"Jone Hintton Spine\")\n",
    "print(m.group(0))\n",
    "print(m.group(1))\n",
    "print(m.group(2))\n",
    "print(m.group(1,2))"
   ]
  },
  {
   "cell_type": "code",
   "execution_count": 43,
   "metadata": {},
   "outputs": [
    {
     "name": "stdout",
     "output_type": "stream",
     "text": [
      "Malcolm\n",
      "Reynolds\n",
      "Malcolm Reynolds\n",
      "Malcolm\n",
      "Reynolds\n"
     ]
    }
   ],
   "source": [
    "m = re.match(r\"(?P<firstname>\\w+) (?P<last_name>\\w+)\",\"Malcolm Reynolds\")\n",
    "# referred by name\n",
    "print(m.group(\"firstname\"))\n",
    "print(m.group(\"last_name\"))\n",
    "print(m.group())\n",
    "#referred by index\n",
    "print(m.group(1))\n",
    "print(m.group(2))"
   ]
  },
  {
   "cell_type": "code",
   "execution_count": 47,
   "metadata": {},
   "outputs": [
    {
     "name": "stdout",
     "output_type": "stream",
     "text": [
      "('c3',)\n",
      "c3\n"
     ]
    }
   ],
   "source": [
    "# if a group matches multiple times,only the last match is accessible:\n",
    "m = re.match(r\"(..)+\",\"a1b2c3\")\n",
    "print(m.groups())\n",
    "print(m.group(1))"
   ]
  },
  {
   "cell_type": "code",
   "execution_count": 52,
   "metadata": {},
   "outputs": [
    {
     "name": "stdout",
     "output_type": "stream",
     "text": [
      "Isaac Newton\n",
      "Isaac\n",
      "Newton\n",
      "re.compile('(\\\\w+) (\\\\w+)')\n",
      "Isaac Newton, physicist\n"
     ]
    }
   ],
   "source": [
    "# Match.__getitem__(g)\n",
    "m = re.match(r\"(\\w+) (\\w+)\", \"Isaac Newton, physicist\")\n",
    "print(m[0])\n",
    "print(m[1])\n",
    "print(m[2])\n",
    "print(m.re)\n",
    "print(m.string)"
   ]
  },
  {
   "cell_type": "code",
   "execution_count": 49,
   "metadata": {},
   "outputs": [
    {
     "name": "stdout",
     "output_type": "stream",
     "text": [
      "('24', '1234')\n",
      "('24', None)\n",
      "('24', '0')\n"
     ]
    }
   ],
   "source": [
    "# Match.groups(default=None)\n",
    "m = re.match(r\"(\\d+)\\.(\\d+)\",\"24.1234\")\n",
    "print(m.groups())\n",
    "\n",
    "m = re.match(r\"(\\d+)\\.?(\\d+)?\",\"24\")\n",
    "print(m.groups())\n",
    "print(m.groups(default=\"0\"))"
   ]
  },
  {
   "cell_type": "code",
   "execution_count": 50,
   "metadata": {},
   "outputs": [
    {
     "data": {
      "text/plain": [
       "{'first_name': 'Malcolm', 'last_name': 'Reynolds'}"
      ]
     },
     "execution_count": 50,
     "metadata": {},
     "output_type": "execute_result"
    }
   ],
   "source": [
    "## Match.groupdict(default=None)\n",
    "\n",
    "m = re.match(r\"(?P<first_name>\\w+) (?P<last_name>\\w+)\",\"Malcolm Reynolds\")\n",
    "m.groupdict()"
   ]
  },
  {
   "cell_type": "markdown",
   "metadata": {},
   "source": [
    "## 总结\n",
    "> 在re模块中，主要有re function 和由re.compile()编译的regular expression object(Pattern object).\n",
    "Match object 可以由re.match(),re.search(),re.finditer()返回获取，也可以由Pattern.search(),Pattern.match(),Pattern.finditer()得到，Match object 有很多自己的方法和属性来处理匹配的字符串。"
   ]
  }
 ],
 "metadata": {
  "kernelspec": {
   "display_name": "Python 3",
   "language": "python",
   "name": "python3"
  },
  "language_info": {
   "codemirror_mode": {
    "name": "ipython",
    "version": 3
   },
   "file_extension": ".py",
   "mimetype": "text/x-python",
   "name": "python",
   "nbconvert_exporter": "python",
   "pygments_lexer": "ipython3",
   "version": "3.6.5"
  }
 },
 "nbformat": 4,
 "nbformat_minor": 2
}
